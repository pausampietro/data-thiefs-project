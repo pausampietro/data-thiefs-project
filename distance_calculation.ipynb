{
 "cells": [
  {
   "cell_type": "code",
   "execution_count": 2,
   "metadata": {},
   "outputs": [],
   "source": [
    "import math as m"
   ]
  },
  {
   "cell_type": "code",
   "execution_count": 10,
   "metadata": {},
   "outputs": [],
   "source": [
    "def get_distance(from_lat,from_lon,to_lat,to_lon):\n",
    "    \n",
    "    x1 = m.radians(float(from_lat))\n",
    "    y1 = m.radians(float(from_lon))\n",
    "    x2 = m.radians(float(to_lat))\n",
    "    y2 = m.radians(float(to_lon))\n",
    "    \n",
    "    angle_1 = m.acos(m.sin(x1) * m.sin(x2) + m.cos(x1) * m.cos(x2) * m.cos(y1 - y2))\n",
    "    angle_1 = m.degrees(angle_1)\n",
    "    \n",
    "    distance = 60 * angle_1\n",
    "    distance_km = distance * 1.852\n",
    "    \n",
    "    return int(distance_km)"
   ]
  },
  {
   "cell_type": "markdown",
   "metadata": {},
   "source": [
    "### TEST1  BCN - PALMA MALLORCA"
   ]
  },
  {
   "cell_type": "code",
   "execution_count": 11,
   "metadata": {},
   "outputs": [
    {
     "data": {
      "text/plain": [
       "201"
      ]
     },
     "execution_count": 11,
     "metadata": {},
     "output_type": "execute_result"
    }
   ],
   "source": [
    "d1 = get_distance(41.297445,2.0832941,39.5517407,2.7361649)\n",
    "d1"
   ]
  },
  {
   "cell_type": "markdown",
   "metadata": {},
   "source": [
    "### TEST2 BCN - NEW YORK"
   ]
  },
  {
   "cell_type": "code",
   "execution_count": 12,
   "metadata": {},
   "outputs": [
    {
     "data": {
      "text/plain": [
       "6146"
      ]
     },
     "execution_count": 12,
     "metadata": {},
     "output_type": "execute_result"
    }
   ],
   "source": [
    "d2 = get_distance(41.297445,2.0832941,40.6413111,-73.7781391)\n",
    "d2"
   ]
  },
  {
   "cell_type": "code",
   "execution_count": null,
   "metadata": {},
   "outputs": [],
   "source": []
  }
 ],
 "metadata": {
  "kernelspec": {
   "display_name": "Python 3",
   "language": "python",
   "name": "python3"
  },
  "language_info": {
   "codemirror_mode": {
    "name": "ipython",
    "version": 3
   },
   "file_extension": ".py",
   "mimetype": "text/x-python",
   "name": "python",
   "nbconvert_exporter": "python",
   "pygments_lexer": "ipython3",
   "version": "3.7.1"
  }
 },
 "nbformat": 4,
 "nbformat_minor": 2
}
